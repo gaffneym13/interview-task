{
 "cells": [
  {
   "attachments": {},
   "cell_type": "markdown",
   "metadata": {},
   "source": [
    "Technical interview - R data science task\n",
    "\n",
    "There are several `.csv` files in `data/` referring to horse races which took place on 1st July. You are tasked with developing a predictive model to predict the likelihood of a horse winning based on the information available before the race started. We would like you to work through some of the steps you would take, such as loading data, EDA on features / target, preprocessing, modelling, evaluation, etc.\n",
    "\n",
    "A data dictionary can be found below:\n",
    "\n",
    "- `MENU_HINT`: Name of the race / `.csv` file\n",
    "- `EVENT_NAME`: Type of event\n",
    "- `Name`: Name of the horse\n",
    "- `WIN_LOSE`: Target variable\n",
    "- `age`: Age of the horse in years\n",
    "- `weight`: Weight the horse is carrying\n",
    "- `jockey`: Name of the jockey\n",
    "- `trainer`: Trainer of the horse\n",
    "- `ratings`: Official rating of the horse\n",
    "- `form`: Form of the horse\n",
    "- `race_surface`: Race surface\n",
    "- `race_runners`: Number of runners\n",
    "- `race_going`: Going of the race\n",
    "- `race_distance`: Distance of the race (meters)\n",
    "- `race_class`: Class of the race\n",
    "- `race_ages`: Age restriction of the race\n",
    "- `non_runners`: Any non runners\n",
    "\n",
    "You have base r libraries and tidyverse available in this conda env, which is built from `install.R`."
   ]
  }
 ],
 "metadata": {
  "kernelspec": {
   "display_name": "flutter-data-science-comp",
   "language": "python",
   "name": "python3"
  },
  "language_info": {
   "codemirror_mode": {
    "name": "ipython",
    "version": 3
   },
   "file_extension": ".py",
   "mimetype": "text/x-python",
   "name": "python",
   "nbconvert_exporter": "python",
   "pygments_lexer": "ipython3",
   "version": "3.10.14 (main, Mar 21 2024, 11:24:58) [Clang 14.0.6 ]"
  },
  "orig_nbformat": 4,
  "vscode": {
   "interpreter": {
    "hash": "86255bfaf777d84280771ce642ca6a4dbdc183c2141afe9ee6dfe1354f05f73a"
   }
  }
 },
 "nbformat": 4,
 "nbformat_minor": 2
}
