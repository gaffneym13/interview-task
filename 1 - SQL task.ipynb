{
 "cells": [
  {
   "attachments": {},
   "cell_type": "markdown",
   "metadata": {},
   "source": [
    "Technical interview - SQL task (senior)\n",
    "\n",
    "Given the two tables below:\n",
    "\n",
    "customers - details about each customer\n",
    "customer_id, registration_date, full_name, date_of_birth, residence_country, email_address, mobile_phone_no\n",
    "\n",
    "transactions - details about each transaction done by a customer\n",
    "transaction_id, transaction_date, amount, customer_id, product_id, card_id\n",
    "\n",
    "1. Write a SQL script to return the list of unique customers that had no transactions in their first 7 days after registration\n",
    "\n",
    "2. Write a SQL script to return the customers with most transactions for each month of 2024"
   ]
  }
 ],
 "metadata": {
  "kernelspec": {
   "display_name": "flutter-data-science-comp",
   "language": "python",
   "name": "python3"
  },
  "language_info": {
   "codemirror_mode": {
    "name": "ipython",
    "version": 3
   },
   "file_extension": ".py",
   "mimetype": "text/x-python",
   "name": "python",
   "nbconvert_exporter": "python",
   "pygments_lexer": "ipython3",
   "version": "3.10.14 (main, Mar 21 2024, 11:24:58) [Clang 14.0.6 ]"
  },
  "orig_nbformat": 4,
  "vscode": {
   "interpreter": {
    "hash": "86255bfaf777d84280771ce642ca6a4dbdc183c2141afe9ee6dfe1354f05f73a"
   }
  }
 },
 "nbformat": 4,
 "nbformat_minor": 2
}
